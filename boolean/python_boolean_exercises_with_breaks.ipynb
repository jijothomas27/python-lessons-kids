{
 "cells": [
  {
   "cell_type": "markdown",
   "id": "6deeed69-8dae-4fdf-ad80-76b732482402",
   "metadata": {},
   "source": [
    "# Introduction to Boolean Types and Operations in Python\n",
    "\n",
    "Welcome to your first lesson in Python! Today, we are going to learn about **Boolean types** and **Boolean operations**.\n",
    "\n",
    "## What are Boolean Types?\n",
    "In Python, a boolean is a data type that can have one of two values: **True** or **False**.\n",
    "\n",
    "Here are some examples:\n",
    "```python\n",
    "is_raining = True\n",
    "is_sunny = False\n",
    "```\n",
    "You can think of it as an answer to a yes/no question:\n",
    "- \"Is it raining?\" - Yes (`True`)\n",
    "- \"Is it sunny?\" - No (`False`)\n",
    "\n",
    "## Boolean Operations\n",
    "You can use booleans with some special operations to make decisions in your code. These operations include:\n",
    "1. **and** - Returns `True` if both conditions are `True`.\n",
    "2. **or** - Returns `True` if at least one condition is `True`.\n",
    "3. **not** - Returns the opposite of the condition.\n",
    "\n",
    "### Examples:\n",
    "```python\n",
    "# 'and' example\n",
    "print(True and False)  # This will print False\n",
    "\n",
    "# 'or' example\n",
    "print(True or False)  # This will print True\n",
    "\n",
    "# 'not' example\n",
    "print(not True)  # This will print False\n",
    "```\n",
    "\n",
    "Now let's practice with some exercises!"
   ]
  },
  {
   "cell_type": "markdown",
   "id": "6bb32a0f",
   "metadata": {},
   "source": [
    "### Exercise 1\n",
    "In this exercise, you'll create two boolean variables and use the `and` operator to see if both are true."
   ]
  },
  {
   "cell_type": "code",
   "execution_count": null,
   "id": "e5b122f6",
   "metadata": {},
   "outputs": [],
   "source": [
    "is_raining = True\n",
    "is_sunny = False\n",
    "print(is_raining and is_sunny)"
   ]
  },
  {
   "cell_type": "markdown",
   "id": "0ea1fd78",
   "metadata": {},
   "source": [
    "### Exercise 2\n",
    "Now, you'll learn how to use the `not` operator to get the opposite of a condition."
   ]
  },
  {
   "cell_type": "code",
   "execution_count": null,
   "id": "9f69d072",
   "metadata": {},
   "outputs": [],
   "source": [
    "# Exercise 2 solution\n"
   ]
  },
  {
   "cell_type": "markdown",
   "id": "e5d62149",
   "metadata": {},
   "source": [
    "### Exercise 3\n",
    "Let's try using the `or` operator to check if at least one condition is true."
   ]
  },
  {
   "cell_type": "code",
   "execution_count": null,
   "id": "c81b2a38",
   "metadata": {},
   "outputs": [],
   "source": [
    "# Exercise 3 solution\n"
   ]
  },
  {
   "cell_type": "markdown",
   "id": "30a2519c",
   "metadata": {},
   "source": [
    "### Exercise 4\n",
    "Time to combine what you've learned! Write a program that checks multiple conditions."
   ]
  },
  {
   "cell_type": "code",
   "execution_count": null,
   "id": "8aacf901",
   "metadata": {},
   "outputs": [],
   "source": [
    "# Exercise 4 solution\n"
   ]
  },
  {
   "cell_type": "markdown",
   "id": "ae62b395",
   "metadata": {},
   "source": [
    "### Exercise 5\n",
    "Practice checking multiple conditions using the `and` operator."
   ]
  },
  {
   "cell_type": "code",
   "execution_count": null,
   "id": "bb7fb67f",
   "metadata": {},
   "outputs": [],
   "source": [
    "# Exercise 5 solution\n"
   ]
  },
  {
   "cell_type": "markdown",
   "id": "463f2fa6",
   "metadata": {},
   "source": [
    "### Exercise 6\n",
    "Try out the `not` operator again with a new variable."
   ]
  },
  {
   "cell_type": "code",
   "execution_count": null,
   "id": "217f90ce",
   "metadata": {},
   "outputs": [],
   "source": [
    "# Exercise 6 solution\n"
   ]
  },
  {
   "cell_type": "markdown",
   "id": "87a29c4f",
   "metadata": {},
   "source": [
    "### Exercise 7\n",
    "Combine the `and`, `or`, and `not` operators to create more complex conditions."
   ]
  },
  {
   "cell_type": "code",
   "execution_count": null,
   "id": "d8ba6a09",
   "metadata": {},
   "outputs": [],
   "source": [
    "# Exercise 7 solution\n"
   ]
  },
  {
   "cell_type": "markdown",
   "id": "e7556b6d",
   "metadata": {},
   "source": [
    "### Exercise 8\n",
    "Learn how to check if a number is positive and even using boolean operations."
   ]
  },
  {
   "cell_type": "code",
   "execution_count": null,
   "id": "c4d9b3fc",
   "metadata": {},
   "outputs": [],
   "source": [
    "# Exercise 8 solution\n"
   ]
  },
  {
   "cell_type": "markdown",
   "id": "df6876b7",
   "metadata": {},
   "source": [
    "### Exercise 9\n",
    "Use the `or` operator to check for multiple number conditions."
   ]
  },
  {
   "cell_type": "code",
   "execution_count": null,
   "id": "22721d14",
   "metadata": {},
   "outputs": [],
   "source": [
    "# Exercise 9 solution\n"
   ]
  },
  {
   "cell_type": "markdown",
   "id": "96db9833",
   "metadata": {},
   "source": [
    "### Exercise 10\n",
    "Let's put it all together and create a complex condition with both `and` and `not`."
   ]
  },
  {
   "cell_type": "code",
   "execution_count": null,
   "id": "090a5b46",
   "metadata": {},
   "outputs": [],
   "source": [
    "# Exercise 10 solution\n"
   ]
  }
 ],
 "metadata": {
  "kernelspec": {
   "display_name": "Python 3 (ipykernel)",
   "language": "python",
   "name": "python3"
  },
  "language_info": {
   "codemirror_mode": {
    "name": "ipython",
    "version": 3
   },
   "file_extension": ".py",
   "mimetype": "text/x-python",
   "name": "python",
   "nbconvert_exporter": "python",
   "pygments_lexer": "ipython3",
   "version": "3.11.8"
  }
 },
 "nbformat": 4,
 "nbformat_minor": 5
}
