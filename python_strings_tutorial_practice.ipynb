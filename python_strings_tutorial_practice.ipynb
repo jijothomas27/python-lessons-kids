{
 "cells": [
  {
   "cell_type": "markdown",
   "id": "541bf4d0",
   "metadata": {},
   "source": [
    "# Python Strings Tutorial\n",
    "This tutorial will introduce you to Python strings and various methods you can perform on them. After each section, you'll find practice questions to apply what you've learned!"
   ]
  },
  {
   "cell_type": "code",
   "execution_count": null,
   "id": "c702443b",
   "metadata": {},
   "outputs": [],
   "source": [
    "# Introduction to Strings\n",
    "# A string is a sequence of characters enclosed within single, double, or triple quotes.\n",
    "\n",
    "string1 = 'Hello'\n",
    "string2 = \"World\"\n",
    "string3 = \"\"\"Python is fun!\"\"\"\n",
    "\n",
    "# You can check the type of a string using the type() function.\n",
    "print(type(string1))  # Output: <class 'str'>\n",
    "\n",
    "# Indexing\n",
    "# Each character in a string has an index, starting from 0 for the first character.\n",
    "print(string1[0])  # Output: H\n",
    "print(string2[1])  # Output: o\n",
    "\n",
    "# Negative indexing can be used to start from the end of the string.\n",
    "print(string1[-1])  # Output: o\n",
    "print(string2[-2])  # Output: l\n",
    "\n",
    "# Strings are immutable, which means you cannot change a character in a string directly."
   ]
  },
  {
   "cell_type": "code",
   "execution_count": null,
   "id": "67179462",
   "metadata": {},
   "outputs": [],
   "source": [
    "# String Methods\n",
    "# Let's learn about some useful string methods.\n",
    "\n",
    "# 1. len(): Returns the length of the string.\n",
    "print(len(string1))  # Output: 5\n",
    "\n",
    "# 2. lower() and upper(): Convert the string to lower or upper case.\n",
    "print(string1.lower())  # Output: hello\n",
    "print(string2.upper())  # Output: WORLD\n",
    "\n",
    "# 3. strip(): Removes any leading or trailing whitespace.\n",
    "string4 = \"  Hello, Python!  \"\n",
    "print(string4.strip())  # Output: \"Hello, Python!\"\n",
    "\n",
    "# 4. replace(): Replaces a specified substring with another substring.\n",
    "print(string1.replace('H', 'J'))  # Output: Jello\n",
    "\n",
    "# 5. split(): Splits a string into a list of substrings based on a delimiter.\n",
    "string5 = \"apple,banana,cherry\"\n",
    "print(string5.split(','))  # Output: ['apple', 'banana', 'cherry']\n",
    "\n",
    "# 6. join(): Joins the elements of a list into a single string, with a specified separator.\n",
    "fruits = ['apple', 'banana', 'cherry']\n",
    "print(' '.join(fruits))  # Output: \"apple banana cherry\"\n",
    "\n",
    "# 7. find(): Finds the first occurrence of a substring.\n",
    "print(string1.find('e'))  # Output: 1\n",
    "\n",
    "# 8. count(): Returns the number of occurrences of a substring.\n",
    "print(string2.count('o'))  # Output: 1\n",
    "\n",
    "# 9. startswith() and endswith(): Check if a string starts or ends with a specified substring.\n",
    "print(string1.startswith('He'))  # Output: True\n",
    "print(string2.endswith('ld'))    # Output: True\n",
    "\n",
    "# 10. isdigit(), isalpha(), isalnum(): Check if the string is entirely digits, alphabets, or alphanumeric.\n",
    "num_str = \"12345\"\n",
    "alpha_str = \"hello\"\n",
    "alnum_str = \"hello123\"\n",
    "print(num_str.isdigit())   # Output: True\n",
    "print(alpha_str.isalpha()) # Output: True\n",
    "print(alnum_str.isalnum()) # Output: True\n",
    "\n",
    "# 11. format(): Formats strings by placing values in placeholders.\n",
    "name = \"John\"\n",
    "age = 12\n",
    "intro = \"My name is {} and I am {} years old.\".format(name, age)\n",
    "print(intro)  # Output: My name is John and I am 12 years old.\n"
   ]
  },
  {
   "cell_type": "markdown",
   "id": "dc8ad6c9",
   "metadata": {},
   "source": [
    "## Practice Questions"
   ]
  },
  {
   "cell_type": "markdown",
   "id": "bc1fa27a",
   "metadata": {},
   "source": [
    "1. **Create a string variable called `greeting` with the value 'Good Morning'. Print the length of the string.**"
   ]
  },
  {
   "cell_type": "code",
   "execution_count": null,
   "id": "fa6c2941",
   "metadata": {},
   "outputs": [],
   "source": [
    "# Your answer here"
   ]
  },
  {
   "cell_type": "markdown",
   "id": "afabd9fd",
   "metadata": {},
   "source": [
    "2. **Print the first and last character of the string `greeting`.**"
   ]
  },
  {
   "cell_type": "code",
   "execution_count": null,
   "id": "5b026fe5",
   "metadata": {},
   "outputs": [],
   "source": [
    "# Your answer here"
   ]
  },
  {
   "cell_type": "markdown",
   "id": "22753d3c",
   "metadata": {},
   "source": [
    "3. **Convert the string `greeting` to all uppercase and print it.**"
   ]
  },
  {
   "cell_type": "code",
   "execution_count": null,
   "id": "989d540f",
   "metadata": {},
   "outputs": [],
   "source": [
    "# Your answer here"
   ]
  },
  {
   "cell_type": "markdown",
   "id": "f54a2d8e",
   "metadata": {},
   "source": [
    "4. **Create a new string by replacing the word 'Morning' with 'Afternoon' in `greeting`. Print the new string.**"
   ]
  },
  {
   "cell_type": "code",
   "execution_count": null,
   "id": "3fdd39cb",
   "metadata": {},
   "outputs": [],
   "source": [
    "# Your answer here"
   ]
  },
  {
   "cell_type": "markdown",
   "id": "5197e6d4",
   "metadata": {},
   "source": [
    "5. **Remove any leading or trailing spaces from the string `greeting` and print the result.**"
   ]
  },
  {
   "cell_type": "code",
   "execution_count": null,
   "id": "971717a3",
   "metadata": {},
   "outputs": [],
   "source": [
    "# Your answer here"
   ]
  },
  {
   "cell_type": "markdown",
   "id": "a06bd38c",
   "metadata": {},
   "source": [
    "6. **Create a list from the string `greeting` by splitting it on spaces.**"
   ]
  },
  {
   "cell_type": "code",
   "execution_count": null,
   "id": "82442335",
   "metadata": {},
   "outputs": [],
   "source": [
    "# Your answer here"
   ]
  },
  {
   "cell_type": "markdown",
   "id": "1db19494",
   "metadata": {},
   "source": [
    "7. **Join the list `['apple', 'orange', 'banana']` into a single string, with each fruit separated by a comma.**"
   ]
  },
  {
   "cell_type": "code",
   "execution_count": null,
   "id": "cf63cbec",
   "metadata": {},
   "outputs": [],
   "source": [
    "# Your answer here"
   ]
  },
  {
   "cell_type": "markdown",
   "id": "bb5254b6",
   "metadata": {},
   "source": [
    "8. **Find the index of the first occurrence of the letter 'o' in `greeting`.**"
   ]
  },
  {
   "cell_type": "code",
   "execution_count": null,
   "id": "22b9509b",
   "metadata": {},
   "outputs": [],
   "source": [
    "# Your answer here"
   ]
  },
  {
   "cell_type": "markdown",
   "id": "98bbaba5",
   "metadata": {},
   "source": [
    "9. **Count how many times the letter 'o' appears in `greeting`.**"
   ]
  },
  {
   "cell_type": "code",
   "execution_count": null,
   "id": "207f6949",
   "metadata": {},
   "outputs": [],
   "source": [
    "# Your answer here"
   ]
  },
  {
   "cell_type": "markdown",
   "id": "7bf8cc3a",
   "metadata": {},
   "source": [
    "10. **Check if the string `greeting` starts with 'Good' and print the result.**"
   ]
  },
  {
   "cell_type": "code",
   "execution_count": null,
   "id": "9f0d6e99",
   "metadata": {},
   "outputs": [],
   "source": [
    "# Your answer here"
   ]
  },
  {
   "cell_type": "markdown",
   "id": "360f5958",
   "metadata": {},
   "source": [
    "11. **Check if the string `greeting` ends with 'Night' and print the result.**"
   ]
  },
  {
   "cell_type": "code",
   "execution_count": null,
   "id": "e2203618",
   "metadata": {},
   "outputs": [],
   "source": [
    "# Your answer here"
   ]
  },
  {
   "cell_type": "markdown",
   "id": "9b0e8342",
   "metadata": {},
   "source": [
    "12. **Check if the string '12345' is entirely made of digits.**"
   ]
  },
  {
   "cell_type": "code",
   "execution_count": null,
   "id": "165d5c13",
   "metadata": {},
   "outputs": [],
   "source": [
    "# Your answer here"
   ]
  },
  {
   "cell_type": "markdown",
   "id": "4e7bf116",
   "metadata": {},
   "source": [
    "13. **Check if the string 'HelloWorld' contains only alphabets.**"
   ]
  },
  {
   "cell_type": "code",
   "execution_count": null,
   "id": "ce542200",
   "metadata": {},
   "outputs": [],
   "source": [
    "# Your answer here"
   ]
  },
  {
   "cell_type": "markdown",
   "id": "c1387894",
   "metadata": {},
   "source": [
    "14. **Use the format method to create the string: 'Hello, my name is John and I am 12 years old.'**"
   ]
  },
  {
   "cell_type": "code",
   "execution_count": null,
   "id": "4341e70a",
   "metadata": {},
   "outputs": [],
   "source": [
    "# Your answer here"
   ]
  },
  {
   "cell_type": "markdown",
   "id": "4426e639",
   "metadata": {},
   "source": [
    "15. **Create a string variable `text` with the value 'Python is awesome'. Write a program that prints the string in reverse.**"
   ]
  },
  {
   "cell_type": "code",
   "execution_count": null,
   "id": "28e74dc3",
   "metadata": {},
   "outputs": [],
   "source": [
    "# Your answer here"
   ]
  },
  {
   "cell_type": "markdown",
   "id": "a75de09f",
   "metadata": {},
   "source": [
    "16. **Use a string method to check if the string 'Hello123' is alphanumeric.**"
   ]
  },
  {
   "cell_type": "code",
   "execution_count": null,
   "id": "ff7c0027",
   "metadata": {},
   "outputs": [],
   "source": [
    "# Your answer here"
   ]
  },
  {
   "cell_type": "markdown",
   "id": "d48f8d48",
   "metadata": {},
   "source": [
    "17. **Extract and print the substring 'awesome' from the string `text`.**"
   ]
  },
  {
   "cell_type": "code",
   "execution_count": null,
   "id": "78c36784",
   "metadata": {},
   "outputs": [],
   "source": [
    "# Your answer here"
   ]
  },
  {
   "cell_type": "markdown",
   "id": "d661bfd4",
   "metadata": {},
   "source": [
    "18. **Convert the string 'hello' to title case.**"
   ]
  },
  {
   "cell_type": "code",
   "execution_count": null,
   "id": "bf060857",
   "metadata": {},
   "outputs": [],
   "source": [
    "# Your answer here"
   ]
  },
  {
   "cell_type": "markdown",
   "id": "9bb11041",
   "metadata": {},
   "source": [
    "19. **Concatenate the string 'Hello' with 'World' using the `+` operator and print the result.**"
   ]
  },
  {
   "cell_type": "code",
   "execution_count": null,
   "id": "374856b1",
   "metadata": {},
   "outputs": [],
   "source": [
    "# Your answer here"
   ]
  },
  {
   "cell_type": "markdown",
   "id": "bec74b50",
   "metadata": {},
   "source": [
    "20. **Create a string variable `long_string` with at least 5 words. Print the number of words in the string.**"
   ]
  },
  {
   "cell_type": "code",
   "execution_count": null,
   "id": "83c8160e",
   "metadata": {},
   "outputs": [],
   "source": [
    "# Your answer here"
   ]
  }
 ],
 "metadata": {},
 "nbformat": 4,
 "nbformat_minor": 5
}
